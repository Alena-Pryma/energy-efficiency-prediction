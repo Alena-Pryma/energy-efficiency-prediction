{
 "cells": [
  {
   "cell_type": "code",
   "execution_count": null,
   "id": "0d54fa6a-6f93-44f2-8460-a61af27b71cb",
   "metadata": {},
   "outputs": [],
   "source": []
  }
 ],
 "metadata": {
  "kernelspec": {
   "display_name": "",
   "name": ""
  },
  "language_info": {
   "name": ""
  }
 },
 "nbformat": 4,
 "nbformat_minor": 5
}
